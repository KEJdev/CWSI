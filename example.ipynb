{
 "cells": [
  {
   "cell_type": "code",
   "execution_count": 1,
   "metadata": {},
   "outputs": [
    {
     "name": "stderr",
     "output_type": "stream",
     "text": [
      "C:\\Users\\ai\\Anaconda3\\lib\\site-packages\\sklearn\\externals\\joblib\\__init__.py:15: DeprecationWarning: sklearn.externals.joblib is deprecated in 0.21 and will be removed in 0.23. Please import this functionality directly from joblib, which can be installed with: pip install joblib. If this warning is raised when loading pickled models, you may need to re-serialize those models with scikit-learn 0.21+.\n",
      "  warnings.warn(msg, category=DeprecationWarning)\n"
     ]
    }
   ],
   "source": [
    "from main import predict_cwsi,predict_cwsi2\n",
    "\n",
    "import configparser\n",
    "config = configparser.ConfigParser()\n",
    "config.read('config.ini',encoding='utf-8')"
   ]
  },
  {
   "cell_type": "code",
   "execution_count": 3,
   "metadata": {},
   "outputs": [
    {
     "name": "stdout",
     "output_type": "stream",
     "text": [
      "process Architecture1 - rgb2cwsi\n",
      "rgb model loading...\n",
      "temp model loading...\n",
      "=================start 85732 file predict=================\n",
      "data resize : (1022, 1280) -> (347, 435)\n",
      "convert rgb 2 temp...\n",
      "convert temp 2 cwsi...\n",
      "calculate error...\n",
      "85732 mean square error : 0.0156644310489591\n",
      "=================start 85747 file predict=================\n",
      "data resize : (1022, 1280) -> (347, 435)\n",
      "convert rgb 2 temp...\n",
      "convert temp 2 cwsi...\n",
      "calculate error...\n",
      "85747 mean square error : 0.01136298771021142\n",
      "=================start 85814 file predict=================\n",
      "data resize : (1022, 1280) -> (347, 435)\n",
      "convert rgb 2 temp...\n",
      "convert temp 2 cwsi...\n",
      "calculate error...\n",
      "85814 mean square error : 0.023877201250867123\n"
     ]
    }
   ],
   "source": [
    "#test1 rgb -> cwsi\n",
    "predict_cwsi(config)"
   ]
  },
  {
   "cell_type": "code",
   "execution_count": 4,
   "metadata": {
    "scrolled": true
   },
   "outputs": [
    {
     "name": "stdout",
     "output_type": "stream",
     "text": [
      "process Architecture2 - temp2cwsi\n",
      "temp model loading...\n",
      "=================start 85732 file predict=================\n",
      "equal data size :  (347, 435) (347, 435)\n",
      "convert temp 2 cwsi...\n",
      "calculate error...\n",
      "85732 mean square error : 0.0156644310489591\n",
      "=================start 85747 file predict=================\n",
      "equal data size :  (347, 435) (347, 435)\n",
      "convert temp 2 cwsi...\n",
      "calculate error...\n",
      "85747 mean square error : 0.01136298771021142\n",
      "=================start 85814 file predict=================\n",
      "equal data size :  (347, 435) (347, 435)\n",
      "convert temp 2 cwsi...\n",
      "calculate error...\n",
      "85814 mean square error : 0.023877201250867123\n"
     ]
    }
   ],
   "source": [
    "#test2 temp -> cwsi\n",
    "config['path']['input_path']='./data/img_temp_resize/'\n",
    "config['model_parameter']['architecture']='temp2cwsi'\n",
    "predict_cwsi(config)"
   ]
  },
  {
   "cell_type": "code",
   "execution_count": 5,
   "metadata": {
    "scrolled": true
   },
   "outputs": [
    {
     "name": "stdout",
     "output_type": "stream",
     "text": [
      "process Architecture2 - temp2cwsi\n",
      "temp model loading...\n",
      "=================start 85732 file predict=================\n",
      "equal data size :  (347, 435) (347, 435)\n",
      "convert temp 2 cwsi...\n",
      "=================start 85747 file predict=================\n",
      "equal data size :  (347, 435) (347, 435)\n",
      "convert temp 2 cwsi...\n",
      "=================start 85814 file predict=================\n",
      "equal data size :  (347, 435) (347, 435)\n",
      "convert temp 2 cwsi...\n"
     ]
    }
   ],
   "source": [
    "#test3 target_path = None\n",
    "config['path']['target_path']=''\n",
    "predict_cwsi(config)"
   ]
  },
  {
   "cell_type": "code",
   "execution_count": 3,
   "metadata": {},
   "outputs": [
    {
     "name": "stdout",
     "output_type": "stream",
     "text": [
      "process Architecture1 - rgb2cwsi\n",
      "rgb model loading...\n",
      "temp model loading...\n",
      "=================start 85732 file predict=================\n",
      "convert rgb 2 temp...\n",
      "data resize : (1022, 1280) -> (347, 435)\n",
      "convert temp 2 cwsi...\n",
      "calculate error...\n",
      "85732 mean square error : 0.027415151376637935\n",
      "=================start 85747 file predict=================\n",
      "convert rgb 2 temp...\n",
      "data resize : (1022, 1280) -> (347, 435)\n",
      "convert temp 2 cwsi...\n",
      "calculate error...\n",
      "85747 mean square error : 0.038682572225795665\n",
      "=================start 85814 file predict=================\n",
      "convert rgb 2 temp...\n",
      "data resize : (1022, 1280) -> (347, 435)\n",
      "convert temp 2 cwsi...\n",
      "calculate error...\n",
      "85814 mean square error : 0.0613214167958828\n"
     ]
    }
   ],
   "source": [
    "#test1 rgb -> cwsi\n",
    "predict_cwsi2(config)"
   ]
  },
  {
   "cell_type": "code",
   "execution_count": null,
   "metadata": {},
   "outputs": [],
   "source": []
  }
 ],
 "metadata": {
  "kernelspec": {
   "display_name": "Python 3",
   "language": "python",
   "name": "python3"
  },
  "language_info": {
   "codemirror_mode": {
    "name": "ipython",
    "version": 3
   },
   "file_extension": ".py",
   "mimetype": "text/x-python",
   "name": "python",
   "nbconvert_exporter": "python",
   "pygments_lexer": "ipython3",
   "version": "3.6.6"
  }
 },
 "nbformat": 4,
 "nbformat_minor": 2
}
